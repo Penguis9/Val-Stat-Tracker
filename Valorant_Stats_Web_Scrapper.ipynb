{
  "nbformat": 4,
  "nbformat_minor": 0,
  "metadata": {
    "colab": {
      "provenance": []
    },
    "kernelspec": {
      "name": "python3",
      "display_name": "Python 3"
    },
    "language_info": {
      "name": "python"
    }
  },
  "cells": [
    {
      "cell_type": "markdown",
      "source": [
        "Import Libraries"
      ],
      "metadata": {
        "id": "tM1746S9Gp5Q"
      }
    },
    {
      "cell_type": "code",
      "source": [
        "from bs4 import BeautifulSoup\n",
        "import requests\n",
        "import pandas as pd"
      ],
      "metadata": {
        "id": "NxewxpdL7oud"
      },
      "execution_count": 1,
      "outputs": []
    },
    {
      "cell_type": "markdown",
      "source": [
        "Set the url"
      ],
      "metadata": {
        "id": "Z0XHXuvV-D0s"
      }
    },
    {
      "cell_type": "code",
      "source": [
        "url = \"https://tracker.gg/valorant/leaderboards/ranked/pc/default?region=na&page=1&act=dcde7346-4085-de4f-c463-2489ed47983b\""
      ],
      "metadata": {
        "id": "QbEDObd--Iq0"
      },
      "execution_count": 11,
      "outputs": []
    },
    {
      "cell_type": "markdown",
      "source": [
        "Function"
      ],
      "metadata": {
        "id": "mg_zXefjGwwl"
      }
    },
    {
      "cell_type": "code",
      "source": [
        "# Declare a function\n",
        "def Top15Players():\n",
        "\n",
        "  #print(\"Hi\")\n",
        "  # Initiate empty lists to hold data\n",
        "  player_links = []\n",
        "  player_tags = []\n",
        "  Names = []\n",
        "  Damage = [] #4\n",
        "  Kills = []#15\n",
        "  KDR = [] #5\n",
        "  WinRate = [] #7\n",
        "  Wins = [] #8\n",
        "\n",
        "  # Reach out to server\n",
        "  page = requests.get(url)\n",
        "\n",
        "  print(page.status_code)\n",
        "\n",
        "  # If successfully reached the server then execute code\n",
        "  if page.status_code == 200:\n",
        "    print(\"Successful\")\n",
        "\n",
        "    # Update code to BeautifulSoup\n",
        "    MainSoup = BeautifulSoup(page.content, \"html.parser\")\n",
        "\n",
        "    # Find all td with the class username on the page\n",
        "    player_cells = MainSoup.find_all(\"td\", class_ = \"username\", limit = 15)\n",
        "\n",
        "    # Look for each players unique link extension\n",
        "    for player_cell in player_cells:\n",
        "      player_link_tag = player_cell.find(\"a\")\n",
        "      if player_link_tag:\n",
        "        player_tag = player_link_tag.get(\"href\")\n",
        "        player_tags.append(player_tag)\n",
        "\n",
        "    # Insert each players unique link ID to get the link to their individual profile page\n",
        "    for tags in player_tags:\n",
        "      player_link = \"https://tracker.gg\" + tags + \"/overview\"\n",
        "      player_links.append(player_link)\n",
        "\n",
        "    # Reach out to server for each players profile page\n",
        "    for player in player_links:\n",
        "      response = requests.get(player)\n",
        "      soup = BeautifulSoup(response.content, \"html.parser\")\n",
        "\n",
        "      # Search for the player's username and add it to a list of names\n",
        "      name_span = soup.find(\"span\", class_ = \"trn-ign__username\")\n",
        "      if name_span:\n",
        "        name = name_span.text\n",
        "        Names.append(name)\n",
        "\n",
        "      # Search player's profile for their stats\n",
        "      stats = soup.find_all(\"span\", class_ = \"value\", limit = 20)\n",
        "      if stats:\n",
        "        damage = stats[3].text\n",
        "        kdr = stats[4].text\n",
        "        kills = stats[15].text\n",
        "        winrate = stats[6].text\n",
        "        win = stats[7].text\n",
        "        Damage.append(damage)\n",
        "        Kills.append(kills)\n",
        "        KDR.append(kdr)\n",
        "        WinRate.append(winrate)\n",
        "        Wins.append(win)\n",
        "\n",
        "      player_stats = {\n",
        "          \"Player\" : Names,\n",
        "          \"Avg Damage\" : Damage,\n",
        "          \"Avg Kills\" : Kills,\n",
        "          \"Kill/ Death\" : KDR,\n",
        "          \"Win Rate\" : WinRate,\n",
        "          \"Wins\" : Wins\n",
        "      }\n",
        "\n",
        "  else:\n",
        "    print('Error')\n",
        "  players_df = pd.DataFrame(player_stats)\n",
        "\n",
        "  stats = [\"Avg Damage\", \"Avg Kills\", \"Kill/ Death\", \"Wins\"]\n",
        "  summary = players_df[stats].apply(pd.to_numeric, errors=\"coerce\").describe()\n",
        "  print(summary)\n",
        "\n",
        "  players_df.to_csv(\"Player_Stats.csv\", index = False)\n",
        "  #players_df.to_csv(\"Player_Stats.csv\", index = False)\n",
        "\n",
        "  return players_df\n",
        "\n",
        "  TopPlayers = Top15Players()"
      ],
      "metadata": {
        "id": "eg51PoAjDsJY"
      },
      "execution_count": 12,
      "outputs": []
    },
    {
      "cell_type": "code",
      "source": [
        "Top15Players()"
      ],
      "metadata": {
        "colab": {
          "base_uri": "https://localhost:8080/",
          "height": 297
        },
        "id": "tqchW1KFp4M-",
        "outputId": "a562fa8b-af76-4b38-fbf5-05238a46a79f"
      },
      "execution_count": 13,
      "outputs": [
        {
          "output_type": "stream",
          "name": "stdout",
          "text": [
            "403\n",
            "Error\n"
          ]
        },
        {
          "output_type": "error",
          "ename": "UnboundLocalError",
          "evalue": "local variable 'player_stats' referenced before assignment",
          "traceback": [
            "\u001b[0;31m---------------------------------------------------------------------------\u001b[0m",
            "\u001b[0;31mUnboundLocalError\u001b[0m                         Traceback (most recent call last)",
            "\u001b[0;32m<ipython-input-13-3135cc280be2>\u001b[0m in \u001b[0;36m<cell line: 1>\u001b[0;34m()\u001b[0m\n\u001b[0;32m----> 1\u001b[0;31m \u001b[0mTop15Players\u001b[0m\u001b[0;34m(\u001b[0m\u001b[0;34m)\u001b[0m\u001b[0;34m\u001b[0m\u001b[0;34m\u001b[0m\u001b[0m\n\u001b[0m",
            "\u001b[0;32m<ipython-input-12-e9c60670be96>\u001b[0m in \u001b[0;36mTop15Players\u001b[0;34m()\u001b[0m\n\u001b[1;32m     76\u001b[0m   \u001b[0;32melse\u001b[0m\u001b[0;34m:\u001b[0m\u001b[0;34m\u001b[0m\u001b[0;34m\u001b[0m\u001b[0m\n\u001b[1;32m     77\u001b[0m     \u001b[0mprint\u001b[0m\u001b[0;34m(\u001b[0m\u001b[0;34m'Error'\u001b[0m\u001b[0;34m)\u001b[0m\u001b[0;34m\u001b[0m\u001b[0;34m\u001b[0m\u001b[0m\n\u001b[0;32m---> 78\u001b[0;31m   \u001b[0mplayers_df\u001b[0m \u001b[0;34m=\u001b[0m \u001b[0mpd\u001b[0m\u001b[0;34m.\u001b[0m\u001b[0mDataFrame\u001b[0m\u001b[0;34m(\u001b[0m\u001b[0mplayer_stats\u001b[0m\u001b[0;34m)\u001b[0m\u001b[0;34m\u001b[0m\u001b[0;34m\u001b[0m\u001b[0m\n\u001b[0m\u001b[1;32m     79\u001b[0m \u001b[0;34m\u001b[0m\u001b[0m\n\u001b[1;32m     80\u001b[0m   \u001b[0mstats\u001b[0m \u001b[0;34m=\u001b[0m \u001b[0;34m[\u001b[0m\u001b[0;34m\"Avg Damage\"\u001b[0m\u001b[0;34m,\u001b[0m \u001b[0;34m\"Avg Kills\"\u001b[0m\u001b[0;34m,\u001b[0m \u001b[0;34m\"Kill/ Death\"\u001b[0m\u001b[0;34m,\u001b[0m \u001b[0;34m\"Wins\"\u001b[0m\u001b[0;34m]\u001b[0m\u001b[0;34m\u001b[0m\u001b[0;34m\u001b[0m\u001b[0m\n",
            "\u001b[0;31mUnboundLocalError\u001b[0m: local variable 'player_stats' referenced before assignment"
          ]
        }
      ]
    }
  ]
}